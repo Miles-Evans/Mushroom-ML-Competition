{
 "cells": [
  {
   "cell_type": "markdown",
   "metadata": {},
   "source": [
    "# CS4320 Introduction to Machine Learning\n",
    "\n",
    "## A Template for the Course Project Submssion\n",
    "\n",
    "Note: This template is optional. You can design your Jupyter Notebook structure based on your competition and preference. However, we expect you practice as many machine learning skills you learned in this course as possible.\n",
    "\n",
    "**Please type your group name here:**"
   ]
  },
  {
   "cell_type": "code",
   "execution_count": 2,
   "metadata": {},
   "outputs": [],
   "source": [
    "GroupName = \"KJM\"\n",
    "assert GroupName != \"\", 'Please enter your name in the above quotation marks, thanks!'\n",
    "KaggleCompetitionLink = \"https://www.kaggle.com/competitions/playground-series-s4e8\"\n",
    "assert KaggleCompetitionLink != \"\", 'Please enter your name in the above quotation marks, thanks!'"
   ]
  },
  {
   "cell_type": "markdown",
   "metadata": {},
   "source": [
    "## Table of contents\n",
    "0. [Submission instructions](#si)\n",
    "1. [Understanding the problem](#1)\n",
    "2. [Data splitting](#2)\n",
    "3. [EDA](#3)\n",
    "4. [Feature engineering](#4)\n",
    "5. [Preprocessing and transformations](#5) \n",
    "6. [Baseline model](#6)\n",
    "7. [Linear models](#7)\n",
    "8. [Different models](#8)\n",
    "9. [Feature selection](#9)\n",
    "10. [Hyperparameter optimization](#10)\n",
    "11. [Interpretation and feature importances](#11) \n",
    "12. [Results on the test set](#12)\n",
    "13. [Submit the predictions to Kaggle](#13)\n",
    "14. [Your takeaway from the course](#14)"
   ]
  },
  {
   "cell_type": "markdown",
   "metadata": {},
   "source": [
    "## Submission instructions <a name=\"si\"></a>\n",
    "<hr>\n",
    "\n",
    "- It's your responsibility to make sure that the assignment is submitted by one of the group members before the deadline. \n",
    "- Upload the .ipynb file to Canvas.\n",
    "- **Submit the screenshot of your Kaggle submission ranking and score** \n",
    "- Run all cells in your notebook to make sure there are no errors by doing `Kernel -> Restart Kernel and Clear All Outputs` and then `Run -> Run All Cells`.\n",
    "- Notebooks with cell execution numbers out of order will have marks deducted. Notebooks without the output displayed may not be graded at all (because we need to see the output in order to grade your work).\n",
    "- Make sure that the plots and output are rendered properly in your submitted file. \n",
    "- Please keep your notebook clean and delete any throwaway code."
   ]
  },
  {
   "cell_type": "markdown",
   "metadata": {},
   "source": [
    "## Introduction <a name=\"in\"></a>\n",
    "\n",
    "A few notes and tips when you work on this project: \n",
    "\n",
    "#### Tips\n",
    "1. The project is open-ended, and while working on it, there might be some situations where you'll have to use your own judgment and make your own decisions (as you would be doing when you work as a data scientist). Make sure you explain your decisions whenever necessary. \n",
    "2. **Do not include everything you ever tried in your submission** -- it's fine just to have your final code. That said, your code should be reproducible and well-documented. For example, if you chose your hyperparameters based on some hyperparameter optimization experiment, you should leave in the code for that experiment so that someone else could re-run it and obtain the same hyperparameters, rather than mysteriously just setting the hyperparameters to some (carefully chosen) values in your code. \n",
    "3. If you realize that you are repeating a lot of code try to organize it in functions. Clear presentation of your code, experiments, and results is the key to be successful in this lab. You may use code from lecture notes or previous lab solutions with appropriate attributions. \n",
    "\n",
    "#### Assessment\n",
    "We plan to grade fairly and leniently. We don't have some secret target score that you need to achieve to get a good grade. **You'll be assessed on demonstration of mastery of course topics, clear presentation, and the quality of your analysis and results.** For example, if you just have a bunch of code and no text or figures, that's not good. If you do a bunch of sane things and get a lower accuracy than your friend, don't sweat it.\n"
   ]
  },
  {
   "cell_type": "markdown",
   "metadata": {},
   "source": [
    "<br><br>"
   ]
  },
  {
   "cell_type": "markdown",
   "metadata": {},
   "source": [
    "<!-- BEGIN QUESTION -->\n",
    "\n",
    "## 1. Pick your problem and explain the prediction problem <a name=\"1\"></a>\n",
    "<hr>\n",
    "\n",
    "**Your tasks:**\n",
    "\n",
    "1. Spend some time understanding the problem and what each feature means. Write a few sentences on your initial thoughts on the problem and the dataset. "
   ]
  },
  {
   "cell_type": "markdown",
   "metadata": {},
   "source": [
    "The problem we are solving is a binary classificaiton task. The goal is to create a model that can accurately predict whether a mushroom is edible (e) or poisonous (p) based on its physical characteristics.\n",
    "\n",
    "![Mushroom Example](header.png)"
   ]
  },
  {
   "cell_type": "code",
   "execution_count": 3,
   "metadata": {},
   "outputs": [],
   "source": [
    "import matplotlib.pyplot as plt\n",
    "import numpy as np\n",
    "import pandas as pd\n",
    "import seaborn as sns\n",
    "plt.rcParams[\"font.size\"] = 16\n",
    "\n",
    "from sklearn.model_selection import cross_val_score, cross_validate, train_test_split\n",
    "from sklearn.dummy import DummyClassifier\n",
    "from sklearn.impute import SimpleImputer\n",
    "from sklearn.preprocessing import OneHotEncoder\n",
    "from sklearn.tree import DecisionTreeClassifier\n",
    "from sklearn.ensemble import GradientBoostingClassifier\n",
    "from sklearn.linear_model import LogisticRegression\n",
    "from sklearn.impute import SimpleImputer\n",
    "from sklearn.model_selection import RandomizedSearchCV, cross_val_score\n",
    "from sklearn.metrics import accuracy_score, f1_score, classification_report, matthews_corrcoef"
   ]
  },
  {
   "cell_type": "markdown",
   "metadata": {},
   "source": [
    "<!-- END QUESTION -->\n",
    "\n",
    "<br><br>"
   ]
  },
  {
   "cell_type": "markdown",
   "metadata": {},
   "source": [
    "<!-- BEGIN QUESTION -->\n",
    "\n",
    "## 2. Data splitting <a name=\"2\"></a>\n",
    "<hr>\n",
    "\n",
    "**Your tasks:**\n",
    "\n",
    "1. Split the data into train and test portions."
   ]
  },
  {
   "cell_type": "code",
   "execution_count": 4,
   "metadata": {},
   "outputs": [],
   "source": [
    "mushroom_traindf = pd.read_csv(\"train.csv\")\n",
    "mushroom_testdf = pd.read_csv(\"test.csv\")\n",
    "\n",
    "# Subsample the training data\n",
    "mushroom_traindf = mushroom_traindf.sample(frac=0.1, random_state=42)"
   ]
  },
  {
   "cell_type": "markdown",
   "metadata": {},
   "source": [
    "<!-- END QUESTION -->\n",
    "\n",
    "<br><br>"
   ]
  },
  {
   "cell_type": "markdown",
   "metadata": {},
   "source": [
    "<!-- BEGIN QUESTION -->\n",
    "\n",
    "## 3. EDA <a name=\"3\"></a>\n",
    "<hr>\n",
    "\n",
    "**Your tasks:**\n",
    "\n",
    "1. Perform exploratory data analysis on the train set.\n",
    "2. Include at least two summary statistics and two visualizations that you find useful, and accompany each one with a sentence explaining it.\n",
    "3. Summarize your initial observations about the data. "
   ]
  },
  {
   "cell_type": "code",
   "execution_count": 5,
   "metadata": {},
   "outputs": [
    {
     "data": {
      "text/plain": [
       "id                      311694\n",
       "class                   311694\n",
       "cap-diameter            311694\n",
       "cap-shape               311690\n",
       "cap-surface             244437\n",
       "cap-color               311693\n",
       "does-bruise-or-bleed    311693\n",
       "gill-attachment         259178\n",
       "gill-spacing            185636\n",
       "gill-color              311687\n",
       "stem-height             311694\n",
       "stem-width              311694\n",
       "stem-root                36069\n",
       "stem-surface            113645\n",
       "stem-color              311692\n",
       "veil-type                16011\n",
       "veil-color               37678\n",
       "has-ring                311693\n",
       "ring-type               298879\n",
       "spore-print-color        26584\n",
       "habitat                 311691\n",
       "season                  311694\n",
       "dtype: int64"
      ]
     },
     "execution_count": 5,
     "metadata": {},
     "output_type": "execute_result"
    }
   ],
   "source": [
    "mushroom_traindf.count()"
   ]
  },
  {
   "cell_type": "code",
   "execution_count": 6,
   "metadata": {},
   "outputs": [
    {
     "data": {
      "text/plain": [
       "id                        int64\n",
       "class                    object\n",
       "cap-diameter            float64\n",
       "cap-shape                object\n",
       "cap-surface              object\n",
       "cap-color                object\n",
       "does-bruise-or-bleed     object\n",
       "gill-attachment          object\n",
       "gill-spacing             object\n",
       "gill-color               object\n",
       "stem-height             float64\n",
       "stem-width              float64\n",
       "stem-root                object\n",
       "stem-surface             object\n",
       "stem-color               object\n",
       "veil-type                object\n",
       "veil-color               object\n",
       "has-ring                 object\n",
       "ring-type                object\n",
       "spore-print-color        object\n",
       "habitat                  object\n",
       "season                   object\n",
       "dtype: object"
      ]
     },
     "execution_count": 6,
     "metadata": {},
     "output_type": "execute_result"
    }
   ],
   "source": [
    "mushroom_traindf.dtypes"
   ]
  },
  {
   "cell_type": "markdown",
   "metadata": {},
   "source": [
    "class: binary\\\n",
    "cap-diameter: numeric\\\n",
    "cap-shape: categorical\\\n",
    "cap-surface: categorical\\\n",
    "cap-color: categorical\\\n",
    "does-bruise-or-bleed: binary\\\n",
    "gill-attachment: categorical\\\n",
    "gill-spacing: categorical\\\n",
    "gill-color: categorical\\\n",
    "stem-height: numeric\\\n",
    "stem-width: numeric\\\n",
    "stem-root: categorical\\\n",
    "stem-surface: categorical\\\n",
    "stem-color: categorical\\\n",
    "veil-type: categorical\\\n",
    "veil-color: categorical\\\n",
    "has-ring: binary\\\n",
    "ring-type: categorical\\\n",
    "spore-print-color: categorical\\\n",
    "habitat: categorical\\\n",
    "season: categorical"
   ]
  },
  {
   "cell_type": "code",
   "execution_count": 7,
   "metadata": {},
   "outputs": [
    {
     "data": {
      "image/png": "[encoded data removed]",
      "text/plain": [
       "<Figure size 1000x600 with 1 Axes>"
      ]
     },
     "metadata": {},
     "output_type": "display_data"
    }
   ],
   "source": [
    "missing_percentage_train = mushroom_traindf.isnull().mean() * 100\n",
    "missing_percentage_train = missing_percentage_train[missing_percentage_train > 0].sort_values(ascending=False)\n",
    "\n",
    "plt.figure(figsize=(10, 6))\n",
    "missing_percentage_train.plot(kind='bar', color='orange')\n",
    "plt.title('Percentage of Missing Data (Training Set)')\n",
    "plt.xlabel('Features')\n",
    "plt.ylabel('Percentage Missing')\n",
    "plt.xticks(rotation=45, ha='right')\n",
    "plt.show()\n",
    "\n",
    "missing_percentage_train = mushroom_traindf.isnull().mean() * 100"
   ]
  },
  {
   "cell_type": "code",
   "execution_count": 8,
   "metadata": {},
   "outputs": [
    {
     "data": {
      "image/png": "[encoded data removed]",
      "text/plain": [
       "<Figure size 1000x600 with 1 Axes>"
      ]
     },
     "metadata": {},
     "output_type": "display_data"
    }
   ],
   "source": [
    "missing_percentage_test = mushroom_testdf.isnull().mean() * 100\n",
    "missing_percentage_test = missing_percentage_test[missing_percentage_test > 0].sort_values(ascending=False)\n",
    "\n",
    "# Plot the missing percentages for the test set\n",
    "plt.figure(figsize=(10, 6))\n",
    "missing_percentage_test.plot(kind='bar')\n",
    "plt.title('Percentage of Missing Data (Test Set)')\n",
    "plt.xlabel('Features')\n",
    "plt.ylabel('Percentage Missing')\n",
    "plt.xticks(rotation=45, ha='right')\n",
    "plt.show()\n",
    "missing_percentage_test = mushroom_testdf.isnull().mean() * 100\n"
   ]
  },
  {
   "cell_type": "code",
   "execution_count": 9,
   "metadata": {},
   "outputs": [
    {
     "data": {
      "image/png": "[encoded data removed]",
      "text/plain": [
       "<Figure size 640x480 with 1 Axes>"
      ]
     },
     "metadata": {},
     "output_type": "display_data"
    }
   ],
   "source": [
    "sns.countplot(data=mushroom_traindf, x='class')\n",
    "plt.title('Class Distribution (Edible vs Poisonous)')\n",
    "plt.xlabel('Class')\n",
    "plt.ylabel('Count')\n",
    "plt.show()"
   ]
  },
  {
   "cell_type": "markdown",
   "metadata": {},
   "source": [
    "Data exploration showed us that several features had a lot of missing data. It also shows that much of the dataset is categorical. "
   ]
  },
  {
   "cell_type": "markdown",
   "metadata": {},
   "source": [
    "<!-- BEGIN QUESTION -->\n",
    "\n",
    "## 4. Feature engineering <a name=\"4\"></a>\n",
    "<hr>\n",
    "\n",
    "**Your tasks:**\n",
    "\n",
    "1. Carry out feature engineering. In other words, extract new features relevant for the problem and work with your new feature set. You may have to go back and forth between feature engineering and preprocessing. Briefly explain why you come up with these new features.\n"
   ]
  },
  {
   "cell_type": "markdown",
   "metadata": {},
   "source": []
  },
  {
   "cell_type": "markdown",
   "metadata": {},
   "source": [
    "\n",
    "<!-- BEGIN QUESTION -->\n",
    "\n",
    "## 5. Preprocessing and transformations <a name=\"5\"></a>\n",
    "<hr>\n",
    "\n",
    "**Your tasks:**\n",
    "\n",
    "1. Identify different feature types and the transformations you would apply on each feature type. \n",
    "2. Define a column transformer, if necessary. "
   ]
  },
  {
   "cell_type": "code",
   "execution_count": 10,
   "metadata": {},
   "outputs": [
    {
     "data": {
      "text/plain": [
       "(              id class  cap-diameter cap-shape cap-surface cap-color  \\\n",
       " 1356763  1356763     p          7.82         s           t         r   \n",
       " 2369311  2369311     p          3.20         o         NaN         g   \n",
       " 1146527  1146527     e          9.36         f         NaN         n   \n",
       " 889383    889383     p          6.52         s           d         e   \n",
       " 416134    416134     p          3.13         b           t         n   \n",
       " \n",
       "         does-bruise-or-bleed gill-attachment gill-spacing gill-color  \\\n",
       " 1356763                    t               d          NaN          g   \n",
       " 2369311                    f               f            f          f   \n",
       " 1146527                    t             NaN          NaN          w   \n",
       " 889383                     t               d            c          w   \n",
       " 416134                     f             NaN          NaN          n   \n",
       " \n",
       "          stem-height  stem-width stem-color has-ring ring-type habitat season  \n",
       " 1356763         4.49       13.30          g        f         f       d      a  \n",
       " 2369311         3.76       17.16          n        f         f       d      s  \n",
       " 1146527        10.12       22.83          w        t         g       d      a  \n",
       " 889383          5.82        8.03          e        f         f       d      a  \n",
       " 416134          9.92        6.00          w        t       NaN       g      u  ,\n",
       "         id  cap-diameter cap-shape cap-surface cap-color does-bruise-or-bleed  \\\n",
       " 0  3116945          8.64         x         NaN         n                    t   \n",
       " 1  3116946          6.90         o           t         o                    f   \n",
       " 2  3116947          2.00         b           g         n                    f   \n",
       " 3  3116948          3.47         x           t         n                    f   \n",
       " 4  3116949          6.17         x           h         y                    f   \n",
       " \n",
       "   gill-attachment gill-spacing gill-color  stem-height  stem-width stem-color  \\\n",
       " 0             NaN          NaN          w        11.13       17.12          w   \n",
       " 1             NaN            c          y         1.27       10.75          n   \n",
       " 2             NaN            c          n         6.18        3.14          n   \n",
       " 3               s            c          n         4.98        8.51          w   \n",
       " 4               p          NaN          y         6.73       13.70          y   \n",
       " \n",
       "   has-ring ring-type habitat season  \n",
       " 0        t         g       d      a  \n",
       " 1        f         f       d      a  \n",
       " 2        f         f       d      s  \n",
       " 3        t         z       d      u  \n",
       " 4        t       NaN       d      u  )"
      ]
     },
     "execution_count": 10,
     "metadata": {},
     "output_type": "execute_result"
    }
   ],
   "source": [
    "# Remove any data where over 50% was missing\n",
    "train_cleaned = mushroom_traindf.loc[:, missing_percentage_train < 50]\n",
    "test_cleaned = mushroom_testdf.loc[:, missing_percentage_test < 50]\n",
    "\n",
    "train_cleaned.head(), test_cleaned.head()"
   ]
  },
  {
   "cell_type": "code",
   "execution_count": 11,
   "metadata": {},
   "outputs": [],
   "source": [
    "# Imputation and Encoding with remaining columns\n",
    "columns_to_use = ['id','cap-diameter', 'cap-shape', 'cap-surface', 'cap-color',\n",
    "                  'does-bruise-or-bleed', 'gill-attachment', 'gill-spacing', 'gill-color',\n",
    "                  'stem-height', 'stem-width', 'stem-color', 'has-ring', 'ring-type', 'habitat', 'season']\n",
    "\n",
    "train_operations = train_cleaned[columns_to_use].copy()\n",
    "test_operations = test_cleaned[columns_to_use].copy()\n",
    "\n",
    "binary_cols = ['does-bruise-or-bleed', 'has-ring']\n",
    "numeric_cols = ['cap-diameter', 'stem-height', 'stem-width']\n",
    "categorical_cols = ['cap-shape', 'cap-surface', 'cap-color', 'gill-attachment', 'gill-spacing', \n",
    "                    'gill-color', 'stem-color', 'ring-type', 'habitat', 'season']\n",
    "\n",
    "# Imputing values\n",
    "numeric_imputer = SimpleImputer(strategy='median')\n",
    "train_operations.loc[:, numeric_cols] = numeric_imputer.fit_transform(train_operations[numeric_cols])\n",
    "test_operations.loc[:, numeric_cols] = numeric_imputer.transform(test_operations[numeric_cols])\n",
    "\n",
    "# Imputing categorical columns with 'most_frequent'\n",
    "categorical_imputer = SimpleImputer(strategy='most_frequent')\n",
    "train_operations.loc[:, categorical_cols] = categorical_imputer.fit_transform(train_operations[categorical_cols])\n",
    "test_operations.loc[:, categorical_cols] = categorical_imputer.transform(test_operations[categorical_cols])\n",
    "\n",
    "train_operations['does-bruise-or-bleed'] = train_operations['does-bruise-or-bleed'].map({'f': 0, 't': 1}).astype('float64')\n",
    "train_operations['has-ring'] = train_operations['has-ring'].map({'f': 0, 't': 1}).astype('float64')\n",
    "\n",
    "test_operations['does-bruise-or-bleed'] = test_operations['does-bruise-or-bleed'].map({'f': 0, 't': 1}).astype('float64')\n",
    "test_operations['has-ring'] = test_operations['has-ring'].map({'f': 0, 't': 1}).astype('float64')"
   ]
  },
  {
   "cell_type": "code",
   "execution_count": 12,
   "metadata": {},
   "outputs": [
    {
     "data": {
      "text/plain": [
       "(              id  cap-diameter cap-shape cap-surface cap-color  \\\n",
       " 1356763  1356763          7.82         s           t         r   \n",
       " 2369311  2369311          3.20         o           t         g   \n",
       " 1146527  1146527          9.36         f           t         n   \n",
       " 889383    889383          6.52         s           d         e   \n",
       " 416134    416134          3.13         b           t         n   \n",
       " \n",
       "          does-bruise-or-bleed gill-attachment gill-spacing gill-color  \\\n",
       " 1356763                   1.0               d            c          g   \n",
       " 2369311                   0.0               f            f          f   \n",
       " 1146527                   1.0               a            c          w   \n",
       " 889383                    1.0               d            c          w   \n",
       " 416134                    0.0               a            c          n   \n",
       " \n",
       "          stem-height  stem-width stem-color  has-ring ring-type habitat season  \n",
       " 1356763         4.49       13.30          g       0.0         f       d      a  \n",
       " 2369311         3.76       17.16          n       0.0         f       d      s  \n",
       " 1146527        10.12       22.83          w       1.0         g       d      a  \n",
       " 889383          5.82        8.03          e       0.0         f       d      a  \n",
       " 416134          9.92        6.00          w       1.0         f       g      u  ,\n",
       "         id  cap-diameter cap-shape cap-surface cap-color  \\\n",
       " 0  3116945          8.64         x           t         n   \n",
       " 1  3116946          6.90         o           t         o   \n",
       " 2  3116947          2.00         b           g         n   \n",
       " 3  3116948          3.47         x           t         n   \n",
       " 4  3116949          6.17         x           h         y   \n",
       " \n",
       "    does-bruise-or-bleed gill-attachment gill-spacing gill-color  stem-height  \\\n",
       " 0                   1.0               a            c          w        11.13   \n",
       " 1                   0.0               a            c          y         1.27   \n",
       " 2                   0.0               a            c          n         6.18   \n",
       " 3                   0.0               s            c          n         4.98   \n",
       " 4                   0.0               p            c          y         6.73   \n",
       " \n",
       "    stem-width stem-color  has-ring ring-type habitat season  \n",
       " 0       17.12          w       1.0         g       d      a  \n",
       " 1       10.75          n       0.0         f       d      a  \n",
       " 2        3.14          n       0.0         f       d      s  \n",
       " 3        8.51          w       1.0         z       d      u  \n",
       " 4       13.70          y       1.0         f       d      u  )"
      ]
     },
     "execution_count": 12,
     "metadata": {},
     "output_type": "execute_result"
    }
   ],
   "source": [
    "\n",
    "train_operations.head(), test_operations.head()"
   ]
  },
  {
   "cell_type": "code",
   "execution_count": 13,
   "metadata": {},
   "outputs": [
    {
     "name": "stdout",
     "output_type": "stream",
     "text": [
      "        id  cap-diameter  does-bruise-or-bleed  stem-height  stem-width  \\\n",
      "0  1356763          7.82                   1.0         4.49       13.30   \n",
      "1  2369311          3.20                   0.0         3.76       17.16   \n",
      "2  1146527          9.36                   1.0        10.12       22.83   \n",
      "3   889383          6.52                   1.0         5.82        8.03   \n",
      "4   416134          3.13                   0.0         9.92        6.00   \n",
      "\n",
      "   has-ring  cap-shape_19.06  cap-shape_4.22  cap-shape_5.15  cap-shape_6.44  \\\n",
      "0       0.0              0.0             0.0             0.0             0.0   \n",
      "1       0.0              0.0             0.0             0.0             0.0   \n",
      "2       1.0              0.0             0.0             0.0             0.0   \n",
      "3       0.0              0.0             0.0             0.0             0.0   \n",
      "4       1.0              0.0             0.0             0.0             0.0   \n",
      "\n",
      "   ...  habitat_s  habitat_t  habitat_u  habitat_w  habitat_y  season_a  \\\n",
      "0  ...        0.0        0.0        0.0        0.0        0.0       1.0   \n",
      "1  ...        0.0        0.0        0.0        0.0        0.0       0.0   \n",
      "2  ...        0.0        0.0        0.0        0.0        0.0       1.0   \n",
      "3  ...        0.0        0.0        0.0        0.0        0.0       1.0   \n",
      "4  ...        0.0        0.0        0.0        0.0        0.0       0.0   \n",
      "\n",
      "   season_s  season_u  season_w  class  \n",
      "0       0.0       0.0       0.0      p  \n",
      "1       1.0       0.0       0.0      p  \n",
      "2       0.0       0.0       0.0      e  \n",
      "3       0.0       0.0       0.0      p  \n",
      "4       0.0       1.0       0.0      p  \n",
      "\n",
      "[5 rows x 229 columns]\n"
     ]
    },
    {
     "data": {
      "text/plain": [
       "(        id  cap-diameter  does-bruise-or-bleed  stem-height  stem-width  \\\n",
       " 0  1356763          7.82                   1.0         4.49       13.30   \n",
       " 1  2369311          3.20                   0.0         3.76       17.16   \n",
       " 2  1146527          9.36                   1.0        10.12       22.83   \n",
       " 3   889383          6.52                   1.0         5.82        8.03   \n",
       " 4   416134          3.13                   0.0         9.92        6.00   \n",
       " \n",
       "    has-ring  cap-shape_19.06  cap-shape_4.22  cap-shape_5.15  cap-shape_6.44  \\\n",
       " 0       0.0              0.0             0.0             0.0             0.0   \n",
       " 1       0.0              0.0             0.0             0.0             0.0   \n",
       " 2       1.0              0.0             0.0             0.0             0.0   \n",
       " 3       0.0              0.0             0.0             0.0             0.0   \n",
       " 4       1.0              0.0             0.0             0.0             0.0   \n",
       " \n",
       "    ...  habitat_s  habitat_t  habitat_u  habitat_w  habitat_y  season_a  \\\n",
       " 0  ...        0.0        0.0        0.0        0.0        0.0       1.0   \n",
       " 1  ...        0.0        0.0        0.0        0.0        0.0       0.0   \n",
       " 2  ...        0.0        0.0        0.0        0.0        0.0       1.0   \n",
       " 3  ...        0.0        0.0        0.0        0.0        0.0       1.0   \n",
       " 4  ...        0.0        0.0        0.0        0.0        0.0       0.0   \n",
       " \n",
       "    season_s  season_u  season_w  class  \n",
       " 0       0.0       0.0       0.0      p  \n",
       " 1       1.0       0.0       0.0      p  \n",
       " 2       0.0       0.0       0.0      e  \n",
       " 3       0.0       0.0       0.0      p  \n",
       " 4       0.0       1.0       0.0      p  \n",
       " \n",
       " [5 rows x 229 columns],\n",
       "         id  cap-diameter  does-bruise-or-bleed  stem-height  stem-width  \\\n",
       " 0  3116945          8.64                   1.0        11.13       17.12   \n",
       " 1  3116946          6.90                   0.0         1.27       10.75   \n",
       " 2  3116947          2.00                   0.0         6.18        3.14   \n",
       " 3  3116948          3.47                   0.0         4.98        8.51   \n",
       " 4  3116949          6.17                   0.0         6.73       13.70   \n",
       " \n",
       "    has-ring  cap-shape_19.06  cap-shape_4.22  cap-shape_5.15  cap-shape_6.44  \\\n",
       " 0       1.0              0.0             0.0             0.0             0.0   \n",
       " 1       0.0              0.0             0.0             0.0             0.0   \n",
       " 2       0.0              0.0             0.0             0.0             0.0   \n",
       " 3       1.0              0.0             0.0             0.0             0.0   \n",
       " 4       1.0              0.0             0.0             0.0             0.0   \n",
       " \n",
       "    ...  habitat_r  habitat_s  habitat_t  habitat_u  habitat_w  habitat_y  \\\n",
       " 0  ...        0.0        0.0        0.0        0.0        0.0        0.0   \n",
       " 1  ...        0.0        0.0        0.0        0.0        0.0        0.0   \n",
       " 2  ...        0.0        0.0        0.0        0.0        0.0        0.0   \n",
       " 3  ...        0.0        0.0        0.0        0.0        0.0        0.0   \n",
       " 4  ...        0.0        0.0        0.0        0.0        0.0        0.0   \n",
       " \n",
       "    season_a  season_s  season_u  season_w  \n",
       " 0       1.0       0.0       0.0       0.0  \n",
       " 1       1.0       0.0       0.0       0.0  \n",
       " 2       0.0       1.0       0.0       0.0  \n",
       " 3       0.0       0.0       1.0       0.0  \n",
       " 4       0.0       0.0       1.0       0.0  \n",
       " \n",
       " [5 rows x 228 columns])"
      ]
     },
     "execution_count": 13,
     "metadata": {},
     "output_type": "execute_result"
    }
   ],
   "source": [
    "one_hot_encoder = OneHotEncoder(sparse_output=False, handle_unknown='ignore')\n",
    "\n",
    "train_encoded = one_hot_encoder.fit_transform(train_operations[categorical_cols])\n",
    "\n",
    "test_encoded = one_hot_encoder.transform(test_operations[categorical_cols])\n",
    "\n",
    "train_encoded_df = pd.DataFrame(train_encoded, columns=one_hot_encoder.get_feature_names_out(categorical_cols))\n",
    "test_encoded_df = pd.DataFrame(test_encoded, columns=one_hot_encoder.get_feature_names_out(categorical_cols))\n",
    "\n",
    "train_encoded_df.index = train_operations.index\n",
    "test_encoded_df.index = test_operations.index\n",
    "\n",
    "train_operations = pd.concat([train_operations.drop(categorical_cols, axis=1), train_encoded_df], axis=1)\n",
    "test_operations = pd.concat([test_operations.drop(categorical_cols, axis=1), test_encoded_df], axis=1)\n",
    "train_operations = train_operations.merge(\n",
    "    train_cleaned[['id', 'class']], on='id', how='left'\n",
    ")\n",
    "\n",
    "X_train = train_operations.drop(columns=['id', 'class'], errors='ignore')\n",
    "y_train = train_operations['class']\n",
    "\n",
    "X_test = test_operations.drop(columns=['id'], errors='ignore')\n",
    "\n",
    "imputer = SimpleImputer(strategy='most_frequent')\n",
    "X_train = pd.DataFrame(imputer.fit_transform(X_train), columns=X_train.columns)\n",
    "X_test = pd.DataFrame(imputer.transform(X_test), columns=X_test.columns)\n",
    "\n",
    "# Check the result\n",
    "print(train_operations.head())\n",
    "train_operations.head(), test_operations.head()"
   ]
  },
  {
   "cell_type": "markdown",
   "metadata": {},
   "source": [
    "<!-- END QUESTION -->\n",
    "\n",
    "<br><br>"
   ]
  },
  {
   "cell_type": "markdown",
   "metadata": {},
   "source": [
    "<!-- BEGIN QUESTION -->\n",
    "\n",
    "## 6. Baseline model <a name=\"6\"></a>\n",
    "<hr>\n",
    "\n",
    "**Your tasks:**\n",
    "1. Try `scikit-learn`'s baseline model and report results."
   ]
  },
  {
   "cell_type": "code",
   "execution_count": 14,
   "metadata": {},
   "outputs": [],
   "source": [
    "dummy = DummyClassifier(strategy=\"most_frequent\")\n",
    "\n",
    "dummy.fit(X_train, y_train)\n",
    "\n",
    "test_predictions = dummy.predict(X_test)"
   ]
  },
  {
   "cell_type": "code",
   "execution_count": 15,
   "metadata": {},
   "outputs": [
    {
     "data": {
      "text/html": [
       "<div>\n",
       "<style scoped>\n",
       "    .dataframe tbody tr th:only-of-type {\n",
       "        vertical-align: middle;\n",
       "    }\n",
       "\n",
       "    .dataframe tbody tr th {\n",
       "        vertical-align: top;\n",
       "    }\n",
       "\n",
       "    .dataframe thead th {\n",
       "        text-align: right;\n",
       "    }\n",
       "</style>\n",
       "<table border=\"1\" class=\"dataframe\">\n",
       "  <thead>\n",
       "    <tr style=\"text-align: right;\">\n",
       "      <th></th>\n",
       "      <th>id</th>\n",
       "      <th>class</th>\n",
       "    </tr>\n",
       "  </thead>\n",
       "  <tbody>\n",
       "    <tr>\n",
       "      <th>0</th>\n",
       "      <td>3116945</td>\n",
       "      <td>p</td>\n",
       "    </tr>\n",
       "    <tr>\n",
       "      <th>1</th>\n",
       "      <td>3116946</td>\n",
       "      <td>p</td>\n",
       "    </tr>\n",
       "    <tr>\n",
       "      <th>2</th>\n",
       "      <td>3116947</td>\n",
       "      <td>p</td>\n",
       "    </tr>\n",
       "    <tr>\n",
       "      <th>3</th>\n",
       "      <td>3116948</td>\n",
       "      <td>p</td>\n",
       "    </tr>\n",
       "    <tr>\n",
       "      <th>4</th>\n",
       "      <td>3116949</td>\n",
       "      <td>p</td>\n",
       "    </tr>\n",
       "  </tbody>\n",
       "</table>\n",
       "</div>"
      ],
      "text/plain": [
       "        id class\n",
       "0  3116945     p\n",
       "1  3116946     p\n",
       "2  3116947     p\n",
       "3  3116948     p\n",
       "4  3116949     p"
      ]
     },
     "execution_count": 15,
     "metadata": {},
     "output_type": "execute_result"
    }
   ],
   "source": [
    "submission = pd.DataFrame(\n",
    "    {\n",
    "        'id' : mushroom_testdf['id'],\n",
    "        'class' : test_predictions\n",
    "    }\n",
    ")\n",
    "\n",
    "submission.to_csv('submission.csv', index=False)\n",
    "\n",
    "submission.head()"
   ]
  },
  {
   "cell_type": "code",
   "execution_count": 16,
   "metadata": {},
   "outputs": [
    {
     "name": "stdout",
     "output_type": "stream",
     "text": [
      "Dummy Classifier Training Accuracy: 0.5468664780201095\n",
      "Dummy Classifier Matthew's Correlation Coefficient: 0.0\n",
      "\n",
      "Classification Report:\n",
      "               precision    recall  f1-score   support\n",
      "\n",
      "           e       0.00      0.00      0.00    141239\n",
      "           p       0.55      1.00      0.71    170455\n",
      "\n",
      "    accuracy                           0.55    311694\n",
      "   macro avg       0.27      0.50      0.35    311694\n",
      "weighted avg       0.30      0.55      0.39    311694\n",
      "\n"
     ]
    }
   ],
   "source": [
    "train_predictions = dummy.predict(X_train)\n",
    "accuracy = accuracy_score(y_train, train_predictions)\n",
    "mcc = matthews_corrcoef(y_train, train_predictions)\n",
    "\n",
    "print(\"Dummy Classifier Training Accuracy:\", accuracy)\n",
    "print(\"Dummy Classifier Matthew's Correlation Coefficient:\", mcc)\n",
    "print(\"\\nClassification Report:\\n\",classification_report(y_train, train_predictions, zero_division=0))"
   ]
  },
  {
   "cell_type": "markdown",
   "metadata": {},
   "source": [
    "<!-- END QUESTION -->\n",
    "\n",
    "<br><br>"
   ]
  },
  {
   "cell_type": "markdown",
   "metadata": {},
   "source": [
    "<!-- BEGIN QUESTION -->\n",
    "\n",
    "## 7. Linear models <a name=\"7\"></a>\n",
    "<hr>\n",
    "\n",
    "**Your tasks:**\n",
    "\n",
    "1. Try a linear model as a first real attempt. \n",
    "2. Carry out hyperparameter tuning to explore different values for the complexity hyperparameter. \n",
    "3. Report cross-validation scores along with standard deviation. \n",
    "4. Summarize your results."
   ]
  },
  {
   "cell_type": "code",
   "execution_count": null,
   "metadata": {},
   "outputs": [],
   "source": [
    "from sklearn.linear_model import LogisticRegression\n",
    "from sklearn.model_selection import RandomizedSearchCV\n",
    "\n",
    "param_distributions = {\n",
    "    'C': [0.01, 0.1, 1, 10],\n",
    "    'max_iter': [4000,5000,6000]\n",
    "}\n",
    "\n",
    "\n",
    "# Initialize\n",
    "logistic_model = LogisticRegression(random_state=42, solver='saga', max_iter=5000)\n",
    "\n",
    "# Perform Randomized Search\n",
    "random_search = RandomizedSearchCV(\n",
    "    estimator=logistic_model,\n",
    "    param_distributions=param_distributions,\n",
    "    n_iter=3,\n",
    "    cv=3,\n",
    "    scoring='accuracy',\n",
    "    random_state=42,\n",
    ")\n",
    "\n",
    "logistic_model.fit(X_train, y_train)\n",
    "print(\"Best Parameters:\", random_search.best_params_)\n",
    "\n",
    "best_logistic_model = random_search.best_estimator_\n",
    "\n",
    "# Cross-validate\n",
    "cv_results = cross_validate(best_logistic_model, X_train, y_train, cv=5)\n",
    "print(\"Logistic Regression Cross-Validation Accuracy Mean:\", cv_results['test_score'].mean())\n",
    "print(\"Logistic Regression Cross-Validation Std Dev:\", cv_results['test_score'].std())\n",
    "\n",
    "# Predictions on the test set\n",
    "test_predictions = best_logistic_model.predict(X_test)\n",
    "\n",
    "# Create the submission dataframe\n",
    "submission_logistic_tuned = pd.DataFrame(\n",
    "    {\n",
    "        'id': mushroom_testdf['id'],\n",
    "        'class': test_predictions\n",
    "    }\n",
    ")\n",
    "\n",
    "submission_logistic_tuned.to_csv('submission_logistic_tuned.csv', index=False)\n",
    "print(submission_logistic_tuned.head())"
   ]
  },
  {
   "cell_type": "markdown",
   "metadata": {},
   "source": [
    "_Type your answer here, replacing this text._"
   ]
  },
  {
   "cell_type": "markdown",
   "metadata": {},
   "source": [
    "<!-- END QUESTION -->\n",
    "\n",
    "<br><br>"
   ]
  },
  {
   "cell_type": "markdown",
   "metadata": {},
   "source": [
    "<!-- BEGIN QUESTION -->\n",
    "\n",
    "## 8. Different models <a name=\"8\"></a>\n",
    "<hr>\n",
    "\n",
    "**Your tasks:**\n",
    "1. Try other models aside from a linear model. One of these models should be a tree-based ensemble model. \n",
    "2. Summarize your results in terms of overfitting/underfitting and fit and score times. Can you beat a linear model?"
   ]
  },
  {
   "cell_type": "markdown",
   "metadata": {},
   "source": [
    "### Decision Tree Model"
   ]
  },
  {
   "cell_type": "code",
   "execution_count": 23,
   "metadata": {},
   "outputs": [
    {
     "data": {
      "text/html": [
       "<style>#sk-container-id-3 {\n",
       "  /* Definition of color scheme common for light and dark mode */\n",
       "  --sklearn-color-text: black;\n",
       "  --sklearn-color-line: gray;\n",
       "  /* Definition of color scheme for unfitted estimators */\n",
       "  --sklearn-color-unfitted-level-0: #fff5e6;\n",
       "  --sklearn-color-unfitted-level-1: #f6e4d2;\n",
       "  --sklearn-color-unfitted-level-2: #ffe0b3;\n",
       "  --sklearn-color-unfitted-level-3: chocolate;\n",
       "  /* Definition of color scheme for fitted estimators */\n",
       "  --sklearn-color-fitted-level-0: #f0f8ff;\n",
       "  --sklearn-color-fitted-level-1: #d4ebff;\n",
       "  --sklearn-color-fitted-level-2: #b3dbfd;\n",
       "  --sklearn-color-fitted-level-3: cornflowerblue;\n",
       "\n",
       "  /* Specific color for light theme */\n",
       "  --sklearn-color-text-on-default-background: var(--sg-text-color, var(--theme-code-foreground, var(--jp-content-font-color1, black)));\n",
       "  --sklearn-color-background: var(--sg-background-color, var(--theme-background, var(--jp-layout-color0, white)));\n",
       "  --sklearn-color-border-box: var(--sg-text-color, var(--theme-code-foreground, var(--jp-content-font-color1, black)));\n",
       "  --sklearn-color-icon: #696969;\n",
       "\n",
       "  @media (prefers-color-scheme: dark) {\n",
       "    /* Redefinition of color scheme for dark theme */\n",
       "    --sklearn-color-text-on-default-background: var(--sg-text-color, var(--theme-code-foreground, var(--jp-content-font-color1, white)));\n",
       "    --sklearn-color-background: var(--sg-background-color, var(--theme-background, var(--jp-layout-color0, #111)));\n",
       "    --sklearn-color-border-box: var(--sg-text-color, var(--theme-code-foreground, var(--jp-content-font-color1, white)));\n",
       "    --sklearn-color-icon: #878787;\n",
       "  }\n",
       "}\n",
       "\n",
       "#sk-container-id-3 {\n",
       "  color: var(--sklearn-color-text);\n",
       "}\n",
       "\n",
       "#sk-container-id-3 pre {\n",
       "  padding: 0;\n",
       "}\n",
       "\n",
       "#sk-container-id-3 input.sk-hidden--visually {\n",
       "  border: 0;\n",
       "  clip: rect(1px 1px 1px 1px);\n",
       "  clip: rect(1px, 1px, 1px, 1px);\n",
       "  height: 1px;\n",
       "  margin: -1px;\n",
       "  overflow: hidden;\n",
       "  padding: 0;\n",
       "  position: absolute;\n",
       "  width: 1px;\n",
       "}\n",
       "\n",
       "#sk-container-id-3 div.sk-dashed-wrapped {\n",
       "  border: 1px dashed var(--sklearn-color-line);\n",
       "  margin: 0 0.4em 0.5em 0.4em;\n",
       "  box-sizing: border-box;\n",
       "  padding-bottom: 0.4em;\n",
       "  background-color: var(--sklearn-color-background);\n",
       "}\n",
       "\n",
       "#sk-container-id-3 div.sk-container {\n",
       "  /* jupyter's `normalize.less` sets `[hidden] { display: none; }`\n",
       "     but bootstrap.min.css set `[hidden] { display: none !important; }`\n",
       "     so we also need the `!important` here to be able to override the\n",
       "     default hidden behavior on the sphinx rendered scikit-learn.org.\n",
       "     See: https://github.com/scikit-learn/scikit-learn/issues/21755 */\n",
       "  display: inline-block !important;\n",
       "  position: relative;\n",
       "}\n",
       "\n",
       "#sk-container-id-3 div.sk-text-repr-fallback {\n",
       "  display: none;\n",
       "}\n",
       "\n",
       "div.sk-parallel-item,\n",
       "div.sk-serial,\n",
       "div.sk-item {\n",
       "  /* draw centered vertical line to link estimators */\n",
       "  background-image: linear-gradient(var(--sklearn-color-text-on-default-background), var(--sklearn-color-text-on-default-background));\n",
       "  background-size: 2px 100%;\n",
       "  background-repeat: no-repeat;\n",
       "  background-position: center center;\n",
       "}\n",
       "\n",
       "/* Parallel-specific style estimator block */\n",
       "\n",
       "#sk-container-id-3 div.sk-parallel-item::after {\n",
       "  content: \"\";\n",
       "  width: 100%;\n",
       "  border-bottom: 2px solid var(--sklearn-color-text-on-default-background);\n",
       "  flex-grow: 1;\n",
       "}\n",
       "\n",
       "#sk-container-id-3 div.sk-parallel {\n",
       "  display: flex;\n",
       "  align-items: stretch;\n",
       "  justify-content: center;\n",
       "  background-color: var(--sklearn-color-background);\n",
       "  position: relative;\n",
       "}\n",
       "\n",
       "#sk-container-id-3 div.sk-parallel-item {\n",
       "  display: flex;\n",
       "  flex-direction: column;\n",
       "}\n",
       "\n",
       "#sk-container-id-3 div.sk-parallel-item:first-child::after {\n",
       "  align-self: flex-end;\n",
       "  width: 50%;\n",
       "}\n",
       "\n",
       "#sk-container-id-3 div.sk-parallel-item:last-child::after {\n",
       "  align-self: flex-start;\n",
       "  width: 50%;\n",
       "}\n",
       "\n",
       "#sk-container-id-3 div.sk-parallel-item:only-child::after {\n",
       "  width: 0;\n",
       "}\n",
       "\n",
       "/* Serial-specific style estimator block */\n",
       "\n",
       "#sk-container-id-3 div.sk-serial {\n",
       "  display: flex;\n",
       "  flex-direction: column;\n",
       "  align-items: center;\n",
       "  background-color: var(--sklearn-color-background);\n",
       "  padding-right: 1em;\n",
       "  padding-left: 1em;\n",
       "}\n",
       "\n",
       "\n",
       "/* Toggleable style: style used for estimator/Pipeline/ColumnTransformer box that is\n",
       "clickable and can be expanded/collapsed.\n",
       "- Pipeline and ColumnTransformer use this feature and define the default style\n",
       "- Estimators will overwrite some part of the style using the `sk-estimator` class\n",
       "*/\n",
       "\n",
       "/* Pipeline and ColumnTransformer style (default) */\n",
       "\n",
       "#sk-container-id-3 div.sk-toggleable {\n",
       "  /* Default theme specific background. It is overwritten whether we have a\n",
       "  specific estimator or a Pipeline/ColumnTransformer */\n",
       "  background-color: var(--sklearn-color-background);\n",
       "}\n",
       "\n",
       "/* Toggleable label */\n",
       "#sk-container-id-3 label.sk-toggleable__label {\n",
       "  cursor: pointer;\n",
       "  display: block;\n",
       "  width: 100%;\n",
       "  margin-bottom: 0;\n",
       "  padding: 0.5em;\n",
       "  box-sizing: border-box;\n",
       "  text-align: center;\n",
       "}\n",
       "\n",
       "#sk-container-id-3 label.sk-toggleable__label-arrow:before {\n",
       "  /* Arrow on the left of the label */\n",
       "  content: \"▸\";\n",
       "  float: left;\n",
       "  margin-right: 0.25em;\n",
       "  color: var(--sklearn-color-icon);\n",
       "}\n",
       "\n",
       "#sk-container-id-3 label.sk-toggleable__label-arrow:hover:before {\n",
       "  color: var(--sklearn-color-text);\n",
       "}\n",
       "\n",
       "/* Toggleable content - dropdown */\n",
       "\n",
       "#sk-container-id-3 div.sk-toggleable__content {\n",
       "  max-height: 0;\n",
       "  max-width: 0;\n",
       "  overflow: hidden;\n",
       "  text-align: left;\n",
       "  /* unfitted */\n",
       "  background-color: var(--sklearn-color-unfitted-level-0);\n",
       "}\n",
       "\n",
       "#sk-container-id-3 div.sk-toggleable__content.fitted {\n",
       "  /* fitted */\n",
       "  background-color: var(--sklearn-color-fitted-level-0);\n",
       "}\n",
       "\n",
       "#sk-container-id-3 div.sk-toggleable__content pre {\n",
       "  margin: 0.2em;\n",
       "  border-radius: 0.25em;\n",
       "  color: var(--sklearn-color-text);\n",
       "  /* unfitted */\n",
       "  background-color: var(--sklearn-color-unfitted-level-0);\n",
       "}\n",
       "\n",
       "#sk-container-id-3 div.sk-toggleable__content.fitted pre {\n",
       "  /* unfitted */\n",
       "  background-color: var(--sklearn-color-fitted-level-0);\n",
       "}\n",
       "\n",
       "#sk-container-id-3 input.sk-toggleable__control:checked~div.sk-toggleable__content {\n",
       "  /* Expand drop-down */\n",
       "  max-height: 200px;\n",
       "  max-width: 100%;\n",
       "  overflow: auto;\n",
       "}\n",
       "\n",
       "#sk-container-id-3 input.sk-toggleable__control:checked~label.sk-toggleable__label-arrow:before {\n",
       "  content: \"▾\";\n",
       "}\n",
       "\n",
       "/* Pipeline/ColumnTransformer-specific style */\n",
       "\n",
       "#sk-container-id-3 div.sk-label input.sk-toggleable__control:checked~label.sk-toggleable__label {\n",
       "  color: var(--sklearn-color-text);\n",
       "  background-color: var(--sklearn-color-unfitted-level-2);\n",
       "}\n",
       "\n",
       "#sk-container-id-3 div.sk-label.fitted input.sk-toggleable__control:checked~label.sk-toggleable__label {\n",
       "  background-color: var(--sklearn-color-fitted-level-2);\n",
       "}\n",
       "\n",
       "/* Estimator-specific style */\n",
       "\n",
       "/* Colorize estimator box */\n",
       "#sk-container-id-3 div.sk-estimator input.sk-toggleable__control:checked~label.sk-toggleable__label {\n",
       "  /* unfitted */\n",
       "  background-color: var(--sklearn-color-unfitted-level-2);\n",
       "}\n",
       "\n",
       "#sk-container-id-3 div.sk-estimator.fitted input.sk-toggleable__control:checked~label.sk-toggleable__label {\n",
       "  /* fitted */\n",
       "  background-color: var(--sklearn-color-fitted-level-2);\n",
       "}\n",
       "\n",
       "#sk-container-id-3 div.sk-label label.sk-toggleable__label,\n",
       "#sk-container-id-3 div.sk-label label {\n",
       "  /* The background is the default theme color */\n",
       "  color: var(--sklearn-color-text-on-default-background);\n",
       "}\n",
       "\n",
       "/* On hover, darken the color of the background */\n",
       "#sk-container-id-3 div.sk-label:hover label.sk-toggleable__label {\n",
       "  color: var(--sklearn-color-text);\n",
       "  background-color: var(--sklearn-color-unfitted-level-2);\n",
       "}\n",
       "\n",
       "/* Label box, darken color on hover, fitted */\n",
       "#sk-container-id-3 div.sk-label.fitted:hover label.sk-toggleable__label.fitted {\n",
       "  color: var(--sklearn-color-text);\n",
       "  background-color: var(--sklearn-color-fitted-level-2);\n",
       "}\n",
       "\n",
       "/* Estimator label */\n",
       "\n",
       "#sk-container-id-3 div.sk-label label {\n",
       "  font-family: monospace;\n",
       "  font-weight: bold;\n",
       "  display: inline-block;\n",
       "  line-height: 1.2em;\n",
       "}\n",
       "\n",
       "#sk-container-id-3 div.sk-label-container {\n",
       "  text-align: center;\n",
       "}\n",
       "\n",
       "/* Estimator-specific */\n",
       "#sk-container-id-3 div.sk-estimator {\n",
       "  font-family: monospace;\n",
       "  border: 1px dotted var(--sklearn-color-border-box);\n",
       "  border-radius: 0.25em;\n",
       "  box-sizing: border-box;\n",
       "  margin-bottom: 0.5em;\n",
       "  /* unfitted */\n",
       "  background-color: var(--sklearn-color-unfitted-level-0);\n",
       "}\n",
       "\n",
       "#sk-container-id-3 div.sk-estimator.fitted {\n",
       "  /* fitted */\n",
       "  background-color: var(--sklearn-color-fitted-level-0);\n",
       "}\n",
       "\n",
       "/* on hover */\n",
       "#sk-container-id-3 div.sk-estimator:hover {\n",
       "  /* unfitted */\n",
       "  background-color: var(--sklearn-color-unfitted-level-2);\n",
       "}\n",
       "\n",
       "#sk-container-id-3 div.sk-estimator.fitted:hover {\n",
       "  /* fitted */\n",
       "  background-color: var(--sklearn-color-fitted-level-2);\n",
       "}\n",
       "\n",
       "/* Specification for estimator info (e.g. \"i\" and \"?\") */\n",
       "\n",
       "/* Common style for \"i\" and \"?\" */\n",
       "\n",
       ".sk-estimator-doc-link,\n",
       "a:link.sk-estimator-doc-link,\n",
       "a:visited.sk-estimator-doc-link {\n",
       "  float: right;\n",
       "  font-size: smaller;\n",
       "  line-height: 1em;\n",
       "  font-family: monospace;\n",
       "  background-color: var(--sklearn-color-background);\n",
       "  border-radius: 1em;\n",
       "  height: 1em;\n",
       "  width: 1em;\n",
       "  text-decoration: none !important;\n",
       "  margin-left: 1ex;\n",
       "  /* unfitted */\n",
       "  border: var(--sklearn-color-unfitted-level-1) 1pt solid;\n",
       "  color: var(--sklearn-color-unfitted-level-1);\n",
       "}\n",
       "\n",
       ".sk-estimator-doc-link.fitted,\n",
       "a:link.sk-estimator-doc-link.fitted,\n",
       "a:visited.sk-estimator-doc-link.fitted {\n",
       "  /* fitted */\n",
       "  border: var(--sklearn-color-fitted-level-1) 1pt solid;\n",
       "  color: var(--sklearn-color-fitted-level-1);\n",
       "}\n",
       "\n",
       "/* On hover */\n",
       "div.sk-estimator:hover .sk-estimator-doc-link:hover,\n",
       ".sk-estimator-doc-link:hover,\n",
       "div.sk-label-container:hover .sk-estimator-doc-link:hover,\n",
       ".sk-estimator-doc-link:hover {\n",
       "  /* unfitted */\n",
       "  background-color: var(--sklearn-color-unfitted-level-3);\n",
       "  color: var(--sklearn-color-background);\n",
       "  text-decoration: none;\n",
       "}\n",
       "\n",
       "div.sk-estimator.fitted:hover .sk-estimator-doc-link.fitted:hover,\n",
       ".sk-estimator-doc-link.fitted:hover,\n",
       "div.sk-label-container:hover .sk-estimator-doc-link.fitted:hover,\n",
       ".sk-estimator-doc-link.fitted:hover {\n",
       "  /* fitted */\n",
       "  background-color: var(--sklearn-color-fitted-level-3);\n",
       "  color: var(--sklearn-color-background);\n",
       "  text-decoration: none;\n",
       "}\n",
       "\n",
       "/* Span, style for the box shown on hovering the info icon */\n",
       ".sk-estimator-doc-link span {\n",
       "  display: none;\n",
       "  z-index: 9999;\n",
       "  position: relative;\n",
       "  font-weight: normal;\n",
       "  right: .2ex;\n",
       "  padding: .5ex;\n",
       "  margin: .5ex;\n",
       "  width: min-content;\n",
       "  min-width: 20ex;\n",
       "  max-width: 50ex;\n",
       "  color: var(--sklearn-color-text);\n",
       "  box-shadow: 2pt 2pt 4pt #999;\n",
       "  /* unfitted */\n",
       "  background: var(--sklearn-color-unfitted-level-0);\n",
       "  border: .5pt solid var(--sklearn-color-unfitted-level-3);\n",
       "}\n",
       "\n",
       ".sk-estimator-doc-link.fitted span {\n",
       "  /* fitted */\n",
       "  background: var(--sklearn-color-fitted-level-0);\n",
       "  border: var(--sklearn-color-fitted-level-3);\n",
       "}\n",
       "\n",
       ".sk-estimator-doc-link:hover span {\n",
       "  display: block;\n",
       "}\n",
       "\n",
       "/* \"?\"-specific style due to the `<a>` HTML tag */\n",
       "\n",
       "#sk-container-id-3 a.estimator_doc_link {\n",
       "  float: right;\n",
       "  font-size: 1rem;\n",
       "  line-height: 1em;\n",
       "  font-family: monospace;\n",
       "  background-color: var(--sklearn-color-background);\n",
       "  border-radius: 1rem;\n",
       "  height: 1rem;\n",
       "  width: 1rem;\n",
       "  text-decoration: none;\n",
       "  /* unfitted */\n",
       "  color: var(--sklearn-color-unfitted-level-1);\n",
       "  border: var(--sklearn-color-unfitted-level-1) 1pt solid;\n",
       "}\n",
       "\n",
       "#sk-container-id-3 a.estimator_doc_link.fitted {\n",
       "  /* fitted */\n",
       "  border: var(--sklearn-color-fitted-level-1) 1pt solid;\n",
       "  color: var(--sklearn-color-fitted-level-1);\n",
       "}\n",
       "\n",
       "/* On hover */\n",
       "#sk-container-id-3 a.estimator_doc_link:hover {\n",
       "  /* unfitted */\n",
       "  background-color: var(--sklearn-color-unfitted-level-3);\n",
       "  color: var(--sklearn-color-background);\n",
       "  text-decoration: none;\n",
       "}\n",
       "\n",
       "#sk-container-id-3 a.estimator_doc_link.fitted:hover {\n",
       "  /* fitted */\n",
       "  background-color: var(--sklearn-color-fitted-level-3);\n",
       "}\n",
       "</style><div id=\"sk-container-id-3\" class=\"sk-top-container\"><div class=\"sk-text-repr-fallback\"><pre>DecisionTreeClassifier()</pre><b>In a Jupyter environment, please rerun this cell to show the HTML representation or trust the notebook. <br />On GitHub, the HTML representation is unable to render, please try loading this page with nbviewer.org.</b></div><div class=\"sk-container\" hidden><div class=\"sk-item\"><div class=\"sk-estimator fitted sk-toggleable\"><input class=\"sk-toggleable__control sk-hidden--visually\" id=\"sk-estimator-id-3\" type=\"checkbox\" checked><label for=\"sk-estimator-id-3\" class=\"sk-toggleable__label fitted sk-toggleable__label-arrow fitted\">&nbsp;&nbsp;DecisionTreeClassifier<a class=\"sk-estimator-doc-link fitted\" rel=\"noreferrer\" target=\"_blank\" href=\"https://scikit-learn.org/1.5/modules/generated/sklearn.tree.DecisionTreeClassifier.html\">?<span>Documentation for DecisionTreeClassifier</span></a><span class=\"sk-estimator-doc-link fitted\">i<span>Fitted</span></span></label><div class=\"sk-toggleable__content fitted\"><pre>DecisionTreeClassifier()</pre></div> </div></div></div></div>"
      ],
      "text/plain": [
       "DecisionTreeClassifier()"
      ]
     },
     "execution_count": 23,
     "metadata": {},
     "output_type": "execute_result"
    }
   ],
   "source": [
    "# First real submission using a decision tree\n",
    "X_train = train_operations.drop('class', axis=1, errors='ignore')\n",
    "y_train = train_operations['class']\n",
    "\n",
    "dt_train = DecisionTreeClassifier()\n",
    "dt_train.fit(X_train, y_train)"
   ]
  },
  {
   "cell_type": "code",
   "execution_count": 25,
   "metadata": {},
   "outputs": [
    {
     "data": {
      "text/html": [
       "<div>\n",
       "<style scoped>\n",
       "    .dataframe tbody tr th:only-of-type {\n",
       "        vertical-align: middle;\n",
       "    }\n",
       "\n",
       "    .dataframe tbody tr th {\n",
       "        vertical-align: top;\n",
       "    }\n",
       "\n",
       "    .dataframe thead th {\n",
       "        text-align: right;\n",
       "    }\n",
       "</style>\n",
       "<table border=\"1\" class=\"dataframe\">\n",
       "  <thead>\n",
       "    <tr style=\"text-align: right;\">\n",
       "      <th></th>\n",
       "      <th>id</th>\n",
       "      <th>class</th>\n",
       "    </tr>\n",
       "  </thead>\n",
       "  <tbody>\n",
       "    <tr>\n",
       "      <th>0</th>\n",
       "      <td>3116945</td>\n",
       "      <td>e</td>\n",
       "    </tr>\n",
       "    <tr>\n",
       "      <th>1</th>\n",
       "      <td>3116946</td>\n",
       "      <td>p</td>\n",
       "    </tr>\n",
       "    <tr>\n",
       "      <th>2</th>\n",
       "      <td>3116947</td>\n",
       "      <td>p</td>\n",
       "    </tr>\n",
       "    <tr>\n",
       "      <th>3</th>\n",
       "      <td>3116948</td>\n",
       "      <td>p</td>\n",
       "    </tr>\n",
       "    <tr>\n",
       "      <th>4</th>\n",
       "      <td>3116949</td>\n",
       "      <td>e</td>\n",
       "    </tr>\n",
       "  </tbody>\n",
       "</table>\n",
       "</div>"
      ],
      "text/plain": [
       "        id class\n",
       "0  3116945     e\n",
       "1  3116946     p\n",
       "2  3116947     p\n",
       "3  3116948     p\n",
       "4  3116949     e"
      ]
     },
     "execution_count": 25,
     "metadata": {},
     "output_type": "execute_result"
    }
   ],
   "source": [
    "dt_test_predictions = dt_train.predict(test_operations)\n",
    "submission1 = pd.DataFrame(\n",
    "    {\n",
    "        'id' : mushroom_testdf['id'],\n",
    "        'class' : dt_test_predictions\n",
    "    }\n",
    ")\n",
    "\n",
    "submission1.to_csv('submission1.csv', index=False)\n",
    "\n",
    "submission1.head()"
   ]
  },
  {
   "cell_type": "markdown",
   "metadata": {},
   "source": [
    "### Gradient Boosting Model"
   ]
  },
  {
   "cell_type": "code",
   "execution_count": 26,
   "metadata": {},
   "outputs": [
    {
     "data": {
      "text/html": [
       "<div>\n",
       "<style scoped>\n",
       "    .dataframe tbody tr th:only-of-type {\n",
       "        vertical-align: middle;\n",
       "    }\n",
       "\n",
       "    .dataframe tbody tr th {\n",
       "        vertical-align: top;\n",
       "    }\n",
       "\n",
       "    .dataframe thead th {\n",
       "        text-align: right;\n",
       "    }\n",
       "</style>\n",
       "<table border=\"1\" class=\"dataframe\">\n",
       "  <thead>\n",
       "    <tr style=\"text-align: right;\">\n",
       "      <th></th>\n",
       "      <th>id</th>\n",
       "      <th>class</th>\n",
       "    </tr>\n",
       "  </thead>\n",
       "  <tbody>\n",
       "    <tr>\n",
       "      <th>0</th>\n",
       "      <td>3116945</td>\n",
       "      <td>e</td>\n",
       "    </tr>\n",
       "    <tr>\n",
       "      <th>1</th>\n",
       "      <td>3116946</td>\n",
       "      <td>p</td>\n",
       "    </tr>\n",
       "    <tr>\n",
       "      <th>2</th>\n",
       "      <td>3116947</td>\n",
       "      <td>p</td>\n",
       "    </tr>\n",
       "    <tr>\n",
       "      <th>3</th>\n",
       "      <td>3116948</td>\n",
       "      <td>p</td>\n",
       "    </tr>\n",
       "    <tr>\n",
       "      <th>4</th>\n",
       "      <td>3116949</td>\n",
       "      <td>e</td>\n",
       "    </tr>\n",
       "  </tbody>\n",
       "</table>\n",
       "</div>"
      ],
      "text/plain": [
       "        id class\n",
       "0  3116945     e\n",
       "1  3116946     p\n",
       "2  3116947     p\n",
       "3  3116948     p\n",
       "4  3116949     e"
      ]
     },
     "execution_count": 26,
     "metadata": {},
     "output_type": "execute_result"
    }
   ],
   "source": [
    "# Impute missing values in X_train\n",
    "imputer = SimpleImputer(strategy='mean')\n",
    "X_train_imputed = imputer.fit_transform(X_train)\n",
    "\n",
    "gbt = GradientBoostingClassifier()\n",
    "\n",
    "# Fit the model on the training data\n",
    "gbt.fit(X_train_imputed, y_train)\n",
    "\n",
    "# Impute missing values in test_operations\n",
    "test_operations_imputed = imputer.transform(test_operations)\n",
    "\n",
    "# Predict on the test data\n",
    "gbt_test_predictions = gbt.predict(test_operations_imputed)\n",
    "# gbt_test_predictions = gbt.predict(test_operations)\n",
    "\n",
    "# Create a submission dataframe\n",
    "submission_gbt = pd.DataFrame(\n",
    "    {\n",
    "        'id': mushroom_testdf['id'],\n",
    "        'class': gbt_test_predictions\n",
    "    }\n",
    ")\n",
    "\n",
    "# Save the submission to a CSV file\n",
    "submission_gbt.to_csv('submission_gbt.csv', index=False)\n",
    "\n",
    "# Display the first few rows of the submission\n",
    "submission_gbt.head()"
   ]
  },
  {
   "cell_type": "markdown",
   "metadata": {},
   "source": [
    "<!-- END QUESTION -->\n",
    "\n",
    "<br><br>"
   ]
  },
  {
   "cell_type": "markdown",
   "metadata": {},
   "source": [
    "<!-- BEGIN QUESTION -->\n",
    "\n",
    "## 9. Feature selection <a name=\"9\"></a>\n",
    "<hr>\n",
    "\n",
    "**Your tasks:**\n",
    "\n",
    "Make some attempts to select relevant features. Do the results improve with feature selection? Summarize your results. If you see improvements in the results, keep feature selection in your pipeline. If not, you may abandon it. "
   ]
  },
  {
   "cell_type": "code",
   "execution_count": null,
   "metadata": {},
   "outputs": [],
   "source": [
    "# Your code here"
   ]
  },
  {
   "cell_type": "markdown",
   "metadata": {},
   "source": [
    "_Type your answer here, replacing this text._"
   ]
  },
  {
   "cell_type": "markdown",
   "metadata": {},
   "source": [
    "<!-- END QUESTION -->\n",
    "\n",
    "<br><br>"
   ]
  },
  {
   "cell_type": "markdown",
   "metadata": {},
   "source": [
    "<!-- BEGIN QUESTION -->\n",
    "\n",
    "## 10. Hyperparameter optimization <a name=\"10\"></a>\n",
    "<hr>\n",
    "\n",
    "**Your tasks:**\n",
    "\n",
    "Make some attempts to optimize hyperparameters for the models you've tried and summarize your results. In at least one case you should be optimizing multiple hyperparameters for a single model. You may use `sklearn`'s methods for hyperparameter optimization or fancier Bayesian optimization methods. \n",
    "  - [GridSearchCV](http://scikit-learn.org/stable/modules/generated/sklearn.model_selection.GridSearchCV.html)   \n",
    "  - [RandomizedSearchCV](http://scikit-learn.org/stable/modules/generated/sklearn.model_selection.RandomizedSearchCV.html)\n",
    "  - [scikit-optimize](https://github.com/scikit-optimize/scikit-optimize) "
   ]
  },
  {
   "cell_type": "markdown",
   "metadata": {},
   "source": [
    "### Linear Regression Hyperparameter Optimization"
   ]
  },
  {
   "cell_type": "code",
   "execution_count": null,
   "metadata": {},
   "outputs": [],
   "source": [
    "param_distributions = {\n",
    "    'C': [0.01, 0.1, 1, 10],\n",
    "    'max_iter': [4000,5000,6000]\n",
    "}\n",
    "\n",
    "\n",
    "# Initialize\n",
    "logistic_model = LogisticRegression(random_state=42, solver='saga', max_iter=5000)\n",
    "\n",
    "# Perform Randomized Search\n",
    "random_search = RandomizedSearchCV(\n",
    "    estimator=logistic_model,\n",
    "    param_distributions=param_distributions,\n",
    "    n_iter=3,\n",
    "    cv=3,\n",
    "    scoring='accuracy',\n",
    "    random_state=42,\n",
    ")\n",
    "\n",
    "logistic_model.fit(X_train, y_train)\n",
    "print(\"Best Parameters:\", random_search.best_params_)\n",
    "\n",
    "best_logistic_model = random_search.best_estimator_\n",
    "\n",
    "# Cross-validate\n",
    "cv_results = cross_validate(best_logistic_model, X_train, y_train, cv=5)\n",
    "print(\"Logistic Regression Cross-Validation Accuracy Mean:\", cv_results['test_score'].mean())\n",
    "print(\"Logistic Regression Cross-Validation Std Dev:\", cv_results['test_score'].std())\n",
    "\n",
    "# Predictions on the test set\n",
    "test_predictions = best_logistic_model.predict(X_test)\n",
    "\n",
    "# Create the submission dataframe\n",
    "submission_logistic_tuned = pd.DataFrame(\n",
    "    {\n",
    "        'id': mushroom_testdf['id'],\n",
    "        'class': test_predictions\n",
    "    }\n",
    ")\n",
    "\n",
    "submission_logistic_tuned.to_csv('submission_logistic_tuned.csv', index=False)\n",
    "print(submission_logistic_tuned.head())"
   ]
  },
  {
   "cell_type": "markdown",
   "metadata": {},
   "source": [
    "### Gradient Boosting Hyperparameter Optimization"
   ]
  },
  {
   "cell_type": "code",
   "execution_count": null,
   "metadata": {},
   "outputs": [],
   "source": [
    "# Define hyperparameters for Randomized Search\n",
    "param_distributions = {\n",
    "    'n_estimators': [50, 100, 200],\n",
    "    'learning_rate': [0.01, 0.05, 0.1, 0.2],\n",
    "    'max_depth': [3, 5, 7],  \n",
    "    'subsample': [0.6, 0.8, 1.0]\n",
    "}\n",
    "\n",
    "gbt = GradientBoostingClassifier()\n",
    "\n",
    "# Random search 1 time\n",
    "random_search = RandomizedSearchCV(\n",
    "    gbt,\n",
    "    param_distributions=param_distributions,\n",
    "    n_iter=3,\n",
    "    scoring='accuracy',\n",
    "    cv=3,\n",
    "    random_state=42\n",
    ")\n",
    "\n",
    "# Fit model on training data\n",
    "random_search.fit(X_train_imputed, y_train)\n",
    "\n",
    "# Best parameters and estimator\n",
    "print(\"Best Parameters:\", random_search.best_params_)\n",
    "best_gbt = random_search.best_estimator_\n",
    "\n",
    "# cross-validation\n",
    "cv_scores = cross_val_score(best_gbt, X_train_imputed, y_train, cv=5, scoring='accuracy')\n",
    "print(\"Cross-Validation Accuracy:\", cv_scores.mean())\n",
    "\n",
    "# Predict test data\n",
    "gbt_test_predictions = best_gbt.predict(test_operations_imputed)\n",
    "\n",
    "# Create submission dataframe\n",
    "submission_gbt = pd.DataFrame(\n",
    "    {\n",
    "        'id': mushroom_testdf['id'],\n",
    "        'class': gbt_test_predictions\n",
    "    }\n",
    ")\n",
    "\n",
    "# Save submission to CSV file\n",
    "submission_gbt.to_csv('submission_gbt_tune.csv', index=False)\n",
    "\n",
    "# Display first few rows\n",
    "print(submission_gbt.head())"
   ]
  },
  {
   "cell_type": "markdown",
   "metadata": {},
   "source": [
    "### Decision Tree Hyperparameter Optimization"
   ]
  },
  {
   "cell_type": "code",
   "execution_count": null,
   "metadata": {},
   "outputs": [],
   "source": [
    "dt = DecisionTreeClassifier()\n",
    "\n",
    "param_distributions = {\n",
    "    'max_depth': [5, 10, 20, 30, None],\n",
    "    'min_samples_split': [2, 3, 5, 8, 10],\n",
    "    'min_samples_leaf': [1, 2, 3, 4, 5, 6]\n",
    "}\n",
    "\n",
    "random_search = RandomizedSearchCV(\n",
    "    dt,\n",
    "    param_distributions=param_distributions,\n",
    "    n_iter=3,\n",
    "    scoring='accuracy',\n",
    "    cv=3\n",
    ")\n",
    "\n",
    "random_search.fit(X_train, y_train)\n",
    "\n",
    "# Best parameters and estimator\n",
    "print(\"Best Parameters:\", random_search.best_params_)\n",
    "best_gbt = random_search.best_estimator_\n",
    "\n",
    "# cross-validation\n",
    "cv_scores = cross_val_score(best_gbt, X_train, y_train, cv=5, scoring='accuracy')\n",
    "print(\"Cross-Validation Accuracy:\", cv_scores.mean())\n",
    "\n",
    "dt_test_predictions = dt.predict(test_operations)\n",
    "submission_dt = pd.DataFrame(\n",
    "    {\n",
    "        'id' : mushroom_testdf['id'],\n",
    "        'class' : dt_test_predictions\n",
    "    }\n",
    ")\n",
    "\n",
    "submission_dt.to_csv('submission_dt_tune.csv', index=False)\n",
    "\n",
    "submission_dt.head()"
   ]
  },
  {
   "cell_type": "markdown",
   "metadata": {},
   "source": [
    "<!-- END QUESTION -->\n",
    "\n",
    "<br><br>"
   ]
  },
  {
   "cell_type": "markdown",
   "metadata": {},
   "source": [
    "<!-- BEGIN QUESTION -->\n",
    "\n",
    "## 11. Interpretation and feature importances <a name=\"11\"></a>\n",
    "<hr>\n",
    "\n",
    "**Your tasks:**\n",
    "\n",
    "1. Use the methods we saw in class (e.g., `eli5`, `shap`) (or any other methods of your choice) to examine the most important features of one of the non-linear models. \n",
    "2. Summarize your observations. "
   ]
  },
  {
   "cell_type": "code",
   "execution_count": null,
   "metadata": {},
   "outputs": [],
   "source": [
    "# Your code here"
   ]
  },
  {
   "cell_type": "markdown",
   "metadata": {},
   "source": [
    "_Type your answer here, replacing this text._"
   ]
  },
  {
   "cell_type": "markdown",
   "metadata": {},
   "source": [
    "<!-- END QUESTION -->\n",
    "\n",
    "<br><br>"
   ]
  },
  {
   "cell_type": "markdown",
   "metadata": {
    "tags": []
   },
   "source": [
    "<!-- BEGIN QUESTION -->\n",
    "\n",
    "## 12. Results on the test set <a name=\"12\"></a>\n",
    "<hr>\n",
    "\n",
    "**Your tasks:**\n",
    "\n",
    "1. Try your best performing model on the test data (from train test split) and report test scores. \n",
    "2. Do the test scores agree with the validation scores from before? To what extent do you trust your results? Do you think you've had issues with optimization bias? \n",
    "3. Take one or two test predictions and explain these individual predictions (e.g., with SHAP force plots).  "
   ]
  },
  {
   "cell_type": "code",
   "execution_count": null,
   "metadata": {},
   "outputs": [],
   "source": [
    "# Your code here"
   ]
  },
  {
   "cell_type": "markdown",
   "metadata": {},
   "source": [
    "_Type your answer here, replacing this text._"
   ]
  },
  {
   "cell_type": "markdown",
   "metadata": {},
   "source": [
    "<!-- END QUESTION -->\n",
    "\n",
    "<br><br>"
   ]
  },
  {
   "cell_type": "markdown",
   "metadata": {},
   "source": [
    "<!-- BEGIN QUESTION -->\n",
    "\n",
    "## 13. Submit the predictions to Kaggle <a name=\"13\"></a>\n",
    "<hr>\n",
    "\n",
    "**Your tasks:**\n",
    "\n",
    "Retrain the best model on the whole training dataset and upload the predicted output on the test set to Kaggle. Report your final test score."
   ]
  },
  {
   "cell_type": "code",
   "execution_count": null,
   "metadata": {},
   "outputs": [],
   "source": [
    "# Your code here"
   ]
  },
  {
   "cell_type": "markdown",
   "metadata": {},
   "source": [
    "_Place the Kaggle screenshot here, replacing this text._"
   ]
  },
  {
   "cell_type": "markdown",
   "metadata": {},
   "source": [
    "<!-- END QUESTION -->\n",
    "\n",
    "<br><br>"
   ]
  },
  {
   "cell_type": "markdown",
   "metadata": {},
   "source": [
    "<!-- BEGIN QUESTION -->\n",
    "\n",
    "## 14. Your takeaway <a name=\"14\"></a>\n",
    "<hr>\n",
    "\n",
    "**Your tasks:**\n",
    "\n",
    "What is your biggest takeaway from the supervised machine learning material we have learned so far? Please write thoughtful answers.  Discuss other ideas that you did not try but could potentially improve the performance/interpretability . "
   ]
  },
  {
   "cell_type": "markdown",
   "metadata": {},
   "source": [
    "<!-- END QUESTION -->\n",
    "\n",
    "<br><br>"
   ]
  }
 ],
 "metadata": {
  "kernelspec": {
   "display_name": "Python 3 (ipykernel)",
   "language": "python",
   "name": "python3"
  },
  "language_info": {
   "codemirror_mode": {
    "name": "ipython",
    "version": 3
   },
   "file_extension": ".py",
   "mimetype": "text/x-python",
   "name": "python",
   "nbconvert_exporter": "python",
   "pygments_lexer": "ipython3",
   "version": "3.10.12"
  },
  "otter": {
   "OK_FORMAT": true,
   "tests": {}
  }
 },
 "nbformat": 4,
 "nbformat_minor": 4
}
