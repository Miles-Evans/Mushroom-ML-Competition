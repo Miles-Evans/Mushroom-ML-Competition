{
 "cells": [
  {
   "cell_type": "code",
   "execution_count": 1,
   "id": "a0b986d7-60c2-47a6-ada9-4f78ed37a26c",
   "metadata": {},
   "outputs": [],
   "source": [
    "import matplotlib.pyplot as plt\n",
    "import numpy as np\n",
    "import pandas as pd\n",
    "\n",
    "plt.rcParams[\"font.size\"] = 16\n",
    "\n",
    "from sklearn.model_selection import cross_val_score, cross_validate, train_test_split\n",
    "from sklearn.dummy import DummyClassifier\n",
    "from sklearn.impute import SimpleImputer\n",
    "from sklearn.preprocessing import OneHotEncoder"
   ]
  },
  {
   "cell_type": "code",
   "execution_count": 3,
   "id": "665f7c6d-9bd5-470e-9eac-5a41d8763ae5",
   "metadata": {},
   "outputs": [],
   "source": [
    "mushroom_traindf = pd.read_csv(\"train.csv\")\n",
    "mushroom_testdf = pd.read_csv(\"test.csv\")"
   ]
  },
  {
   "cell_type": "code",
   "execution_count": 5,
   "id": "2316f5b5-40b4-448d-b46f-9421392fd103",
   "metadata": {},
   "outputs": [
    {
     "data": {
      "text/plain": [
       "id                      3116945\n",
       "class                   3116945\n",
       "cap-diameter            3116941\n",
       "cap-shape               3116905\n",
       "cap-surface             2445922\n",
       "cap-color               3116933\n",
       "does-bruise-or-bleed    3116937\n",
       "gill-attachment         2593009\n",
       "gill-spacing            1858510\n",
       "gill-color              3116888\n",
       "stem-height             3116945\n",
       "stem-width              3116945\n",
       "stem-root                359922\n",
       "stem-surface            1136084\n",
       "stem-color              3116907\n",
       "veil-type                159452\n",
       "veil-color               375998\n",
       "has-ring                3116921\n",
       "ring-type               2988065\n",
       "spore-print-color        267263\n",
       "habitat                 3116900\n",
       "season                  3116945\n",
       "dtype: int64"
      ]
     },
     "execution_count": 5,
     "metadata": {},
     "output_type": "execute_result"
    }
   ],
   "source": [
    "mushroom_traindf.count()"
   ]
  },
  {
   "cell_type": "code",
   "execution_count": 7,
   "id": "7eced8b5-6ed7-4129-bb3f-76f239206457",
   "metadata": {},
   "outputs": [
    {
     "data": {
      "text/plain": [
       "id                        int64\n",
       "class                    object\n",
       "cap-diameter            float64\n",
       "cap-shape                object\n",
       "cap-surface              object\n",
       "cap-color                object\n",
       "does-bruise-or-bleed     object\n",
       "gill-attachment          object\n",
       "gill-spacing             object\n",
       "gill-color               object\n",
       "stem-height             float64\n",
       "stem-width              float64\n",
       "stem-root                object\n",
       "stem-surface             object\n",
       "stem-color               object\n",
       "veil-type                object\n",
       "veil-color               object\n",
       "has-ring                 object\n",
       "ring-type                object\n",
       "spore-print-color        object\n",
       "habitat                  object\n",
       "season                   object\n",
       "dtype: object"
      ]
     },
     "execution_count": 7,
     "metadata": {},
     "output_type": "execute_result"
    }
   ],
   "source": [
    "mushroom_traindf.dtypes"
   ]
  },
  {
   "cell_type": "markdown",
   "id": "89a2f611-79ae-4ea6-99a1-592ecb1b5b62",
   "metadata": {},
   "source": [
    "class: binary\\\n",
    "cap-diameter: numeric\\\n",
    "cap-shape: categorical\\\n",
    "cap-surface: categorical\\\n",
    "cap-color: categorical\\\n",
    "does-bruise-or-bleed: binary\\\n",
    "gill-attachment: categorical\\\n",
    "gill-spacing: categorical\\\n",
    "gill-color: categorical\\\n",
    "stem-height: numeric\\\n",
    "stem-width: numeric\\\n",
    "stem-root: categorical\\\n",
    "stem-surface: categorical\\\n",
    "stem-color: categorical\\\n",
    "veil-type: categorical\\\n",
    "veil-color: categorical\\\n",
    "has-ring: binary\\\n",
    "ring-type: categorical\\\n",
    "spore-print-color: categorical\\\n",
    "habitat: categorical\\\n",
    "season: categorical"
   ]
  },
  {
   "cell_type": "code",
   "execution_count": 10,
   "id": "b5f7cf14",
   "metadata": {},
   "outputs": [
    {
     "data": {
      "text/plain": [
       "id                       0.000000\n",
       "class                    0.000000\n",
       "cap-diameter             0.000128\n",
       "cap-shape                0.001283\n",
       "cap-surface             21.528227\n",
       "cap-color                0.000385\n",
       "does-bruise-or-bleed     0.000257\n",
       "gill-attachment         16.809280\n",
       "gill-spacing            40.373988\n",
       "gill-color               0.001829\n",
       "stem-height              0.000000\n",
       "stem-width               0.000000\n",
       "stem-root               88.452732\n",
       "stem-surface            63.551362\n",
       "stem-color               0.001219\n",
       "veil-type               94.884350\n",
       "veil-color              87.936970\n",
       "has-ring                 0.000770\n",
       "ring-type                4.134818\n",
       "spore-print-color       91.425482\n",
       "habitat                  0.001444\n",
       "season                   0.000000\n",
       "dtype: float64"
      ]
     },
     "execution_count": 10,
     "metadata": {},
     "output_type": "execute_result"
    }
   ],
   "source": [
    "# Dispaly percentage of data available\n",
    "missing_percentage_train = mushroom_traindf.isnull().mean() * 100\n",
    "\n",
    "missing_percentage_train"
   ]
  },
  {
   "cell_type": "code",
   "execution_count": 12,
   "id": "f8d3c626-cc72-49ad-b001-26d589978568",
   "metadata": {},
   "outputs": [
    {
     "data": {
      "text/plain": [
       "id                       0.000000\n",
       "cap-diameter             0.000337\n",
       "cap-shape                0.001492\n",
       "cap-surface             21.506821\n",
       "cap-color                0.000626\n",
       "does-bruise-or-bleed     0.000481\n",
       "gill-attachment         16.834796\n",
       "gill-spacing            40.404694\n",
       "gill-color               0.002358\n",
       "stem-height              0.000048\n",
       "stem-width               0.000000\n",
       "stem-root               88.452543\n",
       "stem-surface            63.595327\n",
       "stem-color               0.001011\n",
       "veil-type               94.878689\n",
       "veil-color              87.880445\n",
       "has-ring                 0.000914\n",
       "ring-type                4.148051\n",
       "spore-print-color       91.417224\n",
       "habitat                  0.001203\n",
       "season                   0.000000\n",
       "dtype: float64"
      ]
     },
     "execution_count": 12,
     "metadata": {},
     "output_type": "execute_result"
    }
   ],
   "source": [
    "missing_percentage_test = mushroom_testdf.isnull().mean() * 100\n",
    "\n",
    "missing_percentage_test"
   ]
  },
  {
   "cell_type": "code",
   "execution_count": 13,
   "id": "102eabdc-0ab4-4243-859b-8df308bc6282",
   "metadata": {},
   "outputs": [
    {
     "data": {
      "text/plain": [
       "(   id class  cap-diameter cap-shape cap-surface cap-color  \\\n",
       " 0   0     e          8.80         f           s         u   \n",
       " 1   1     p          4.51         x           h         o   \n",
       " 2   2     e          6.94         f           s         b   \n",
       " 3   3     e          3.88         f           y         g   \n",
       " 4   4     e          5.85         x           l         w   \n",
       " \n",
       "   does-bruise-or-bleed gill-attachment gill-spacing gill-color  stem-height  \\\n",
       " 0                    f               a            c          w         4.51   \n",
       " 1                    f               a            c          n         4.79   \n",
       " 2                    f               x            c          w         6.85   \n",
       " 3                    f               s          NaN          g         4.16   \n",
       " 4                    f               d          NaN          w         3.37   \n",
       " \n",
       "    stem-width stem-color has-ring ring-type habitat season  \n",
       " 0       15.39          w        f         f       d      a  \n",
       " 1        6.48          o        t         z       d      w  \n",
       " 2        9.93          n        f         f       l      w  \n",
       " 3        6.53          w        f         f       d      u  \n",
       " 4        8.36          w        f         f       g      a  ,\n",
       "         id  cap-diameter cap-shape cap-surface cap-color does-bruise-or-bleed  \\\n",
       " 0  3116945          8.64         x         NaN         n                    t   \n",
       " 1  3116946          6.90         o           t         o                    f   \n",
       " 2  3116947          2.00         b           g         n                    f   \n",
       " 3  3116948          3.47         x           t         n                    f   \n",
       " 4  3116949          6.17         x           h         y                    f   \n",
       " \n",
       "   gill-attachment gill-spacing gill-color  stem-height  stem-width stem-color  \\\n",
       " 0             NaN          NaN          w        11.13       17.12          w   \n",
       " 1             NaN            c          y         1.27       10.75          n   \n",
       " 2             NaN            c          n         6.18        3.14          n   \n",
       " 3               s            c          n         4.98        8.51          w   \n",
       " 4               p          NaN          y         6.73       13.70          y   \n",
       " \n",
       "   has-ring ring-type habitat season  \n",
       " 0        t         g       d      a  \n",
       " 1        f         f       d      a  \n",
       " 2        f         f       d      s  \n",
       " 3        t         z       d      u  \n",
       " 4        t       NaN       d      u  )"
      ]
     },
     "execution_count": 13,
     "metadata": {},
     "output_type": "execute_result"
    }
   ],
   "source": [
    "# Remove any data where over 50% was missing\n",
    "train_cleaned = mushroom_traindf.loc[:, missing_percentage_train < 50]\n",
    "test_cleaned = mushroom_testdf.loc[:, missing_percentage_test < 50]\n",
    "\n",
    "train_cleaned.head(), test_cleaned.head()"
   ]
  },
  {
   "cell_type": "code",
   "execution_count": null,
   "id": "90c755ee-f73f-43f5-90ef-4f2370555747",
   "metadata": {},
   "outputs": [],
   "source": [
    "# Imputation and Encoding with remaining columns\n",
    "columns_to_use = ['cap-diameter', 'cap-shape', 'cap-surface', 'cap-color',\n",
    "                  'does-bruise-or-bleed', 'gill-attachment', 'gill-spacing', 'gill-color',\n",
    "                  'stem-height', 'stem-width', 'stem-color', 'has-ring', 'ring-type', 'habitat', 'season']\n",
    "\n",
    "train_operations = mushroom_traindf[columns_to_use].copy()\n",
    "test_operations = mushroom_testdf[columns_to_use].copy()\n",
    "\n",
    "binary_cols = ['does-bruise-or-bleed', 'has-ring']\n",
    "numeric_cols = ['cap-diameter', 'stem-height', 'stem-width']\n",
    "categorical_cols = ['cap-shape', 'cap-surface', 'cap-color', 'gill-attachment', 'gill-spacing', \n",
    "                    'gill-color', 'stem-color', 'ring-type', 'habitat', 'season']\n",
    "\n",
    "# Imputing values\n",
    "numeric_imputer = SimpleImputer(strategy='median')\n",
    "train_operations.loc[:, numeric_cols] = numeric_imputer.fit_transform(train_operations[numeric_cols])\n",
    "test_operations.loc[:, numeric_cols] = numeric_imputer.transform(test_operations[numeric_cols])\n",
    "\n",
    "# Imputing categorical columns with 'most_frequent'\n",
    "categorical_imputer = SimpleImputer(strategy='most_frequent')\n",
    "train_operations.loc[:, categorical_cols] = categorical_imputer.fit_transform(train_operations[categorical_cols])\n",
    "test_operations.loc[:, categorical_cols] = categorical_imputer.transform(test_operations[categorical_cols])\n",
    "\n",
    "train_operations['does-bruise-or-bleed'] = train_operations['does-bruise-or-bleed'].map({'f': 0, 't': 1}).astype('float64')\n",
    "train_operations['has-ring'] = train_operations['has-ring'].map({'f': 0, 't': 1}).astype('float64')\n",
    "\n",
    "test_operations['does-bruise-or-bleed'] = test_operations['does-bruise-or-bleed'].map({'f': 0, 't': 1}).astype('float64')\n",
    "test_operations['has-ring'] = test_operations['has-ring'].map({'f': 0, 't': 1}).astype('float64')"
   ]
  },
  {
   "cell_type": "code",
   "execution_count": null,
   "id": "e33d8635-753e-4a44-989b-2f8963a0294b",
   "metadata": {},
   "outputs": [],
   "source": []
  },
  {
   "cell_type": "code",
   "execution_count": null,
   "id": "4a098130-126f-4577-bc4d-f5fe3ee931ae",
   "metadata": {},
   "outputs": [],
   "source": [
    "# Using a dummy classifier\n",
    "X_train = train_cleaned.drop('class', axis=1)\n",
    "y_train = train_cleaned['class']\n",
    "\n",
    "dummy = DummyClassifier(strategy=\"most_frequent\")\n",
    "\n",
    "dummy.fit(X_train, y_train)\n",
    "\n",
    "X_test = test_cleaned.drop('id', axis=1)\n",
    "test_predictions = dummy.predict(X_test)"
   ]
  },
  {
   "cell_type": "code",
   "execution_count": null,
   "id": "a668a981-3349-46ca-8980-28307c4f62d4",
   "metadata": {},
   "outputs": [],
   "source": [
    "submission = pd.DataFrame(\n",
    "    {\n",
    "        'id' : mushroom_testdf['id'],\n",
    "        'class' : test_predictions\n",
    "    }\n",
    ")\n",
    "\n",
    "submission.to_csv('submission.csv', index=False)\n",
    "\n",
    "submission.head()"
   ]
  },
  {
   "cell_type": "code",
   "execution_count": null,
   "id": "52739481-2cdf-4980-abc4-3421bcfdca82",
   "metadata": {},
   "outputs": [],
   "source": []
  }
 ],
 "metadata": {
  "kernelspec": {
   "display_name": "Python 3 (ipykernel)",
   "language": "python",
   "name": "python3"
  },
  "language_info": {
   "codemirror_mode": {
    "name": "ipython",
    "version": 3
   },
   "file_extension": ".py",
   "mimetype": "text/x-python",
   "name": "python",
   "nbconvert_exporter": "python",
   "pygments_lexer": "ipython3",
   "version": "3.12.3"
  }
 },
 "nbformat": 4,
 "nbformat_minor": 5
}
