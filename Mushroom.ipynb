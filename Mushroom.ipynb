{
 "cells": [
  {
   "cell_type": "code",
   "execution_count": 3,
   "id": "a0b986d7-60c2-47a6-ada9-4f78ed37a26c",
   "metadata": {},
   "outputs": [],
   "source": [
    "import matplotlib.pyplot as plt\n",
    "import numpy as np\n",
    "import pandas as pd\n",
    "\n",
    "plt.rcParams[\"font.size\"] = 16\n",
    "\n",
    "from sklearn.model_selection import cross_val_score, cross_validate, train_test_split\n",
    "from sklearn.dummy import DummyClassifier"
   ]
  },
  {
   "cell_type": "code",
   "execution_count": 13,
   "id": "665f7c6d-9bd5-470e-9eac-5a41d8763ae5",
   "metadata": {},
   "outputs": [],
   "source": [
    "mushroom_traindf = pd.read_csv(\"train.csv\")\n",
    "mushroom_testdf = pd.read_csv(\"test.csv\")"
   ]
  },
  {
   "cell_type": "code",
   "execution_count": 11,
   "id": "2316f5b5-40b4-448d-b46f-9421392fd103",
   "metadata": {},
   "outputs": [
    {
     "data": {
      "text/plain": [
       "id                      3116945\n",
       "class                   3116945\n",
       "cap-diameter            3116941\n",
       "cap-shape               3116905\n",
       "cap-surface             2445922\n",
       "cap-color               3116933\n",
       "does-bruise-or-bleed    3116937\n",
       "gill-attachment         2593009\n",
       "gill-spacing            1858510\n",
       "gill-color              3116888\n",
       "stem-height             3116945\n",
       "stem-width              3116945\n",
       "stem-root                359922\n",
       "stem-surface            1136084\n",
       "stem-color              3116907\n",
       "veil-type                159452\n",
       "veil-color               375998\n",
       "has-ring                3116921\n",
       "ring-type               2988065\n",
       "spore-print-color        267263\n",
       "habitat                 3116900\n",
       "season                  3116945\n",
       "dtype: int64"
      ]
     },
     "execution_count": 11,
     "metadata": {},
     "output_type": "execute_result"
    }
   ],
   "source": [
    "mushroom_traindf.count()"
   ]
  },
  {
   "cell_type": "code",
   "execution_count": 21,
   "id": "7eced8b5-6ed7-4129-bb3f-76f239206457",
   "metadata": {},
   "outputs": [
    {
     "data": {
      "text/plain": [
       "id                        int64\n",
       "class                    object\n",
       "cap-diameter            float64\n",
       "cap-shape                object\n",
       "cap-surface              object\n",
       "cap-color                object\n",
       "does-bruise-or-bleed     object\n",
       "gill-attachment          object\n",
       "gill-spacing             object\n",
       "gill-color               object\n",
       "stem-height             float64\n",
       "stem-width              float64\n",
       "stem-root                object\n",
       "stem-surface             object\n",
       "stem-color               object\n",
       "veil-type                object\n",
       "veil-color               object\n",
       "has-ring                 object\n",
       "ring-type                object\n",
       "spore-print-color        object\n",
       "habitat                  object\n",
       "season                   object\n",
       "dtype: object"
      ]
     },
     "execution_count": 21,
     "metadata": {},
     "output_type": "execute_result"
    }
   ],
   "source": [
    "mushroom_traindf.dtypes"
   ]
  },
  {
   "cell_type": "code",
   "execution_count": null,
   "id": "b5f7cf14",
   "metadata": {},
   "outputs": [],
   "source": []
  },
  {
   "cell_type": "markdown",
   "id": "89a2f611-79ae-4ea6-99a1-592ecb1b5b62",
   "metadata": {},
   "source": [
    "class: binary\\\n",
    "cap-diameter: numeric\\\n",
    "cap-shape: categorical\\\n",
    "cap-surface: categorical\\\n",
    "cap-color: categorical\\\n",
    "does-bruise-or-bleed: binary\\\n",
    "gill-attachment: categorical\\\n",
    "gill-spacing: categorical\\\n",
    "gill-color: categorical\\\n",
    "stem-height: numeric\\\n",
    "stem-width: numeric\\\n",
    "stem-root: categorical\\\n",
    "stem-surface: categorical\\\n",
    "stem-color: categorical\\\n",
    "veil-type: categorical\\\n",
    "veil-color: categorical\\\n",
    "has-ring: binary\\\n",
    "ring-type: categorical\\\n",
    "spore-print-color: categorical\\\n",
    "habitat: categorical\\\n",
    "season: categorical"
   ]
  },
  {
   "cell_type": "code",
   "execution_count": null,
   "id": "f8d3c626-cc72-49ad-b001-26d589978568",
   "metadata": {},
   "outputs": [],
   "source": []
  }
 ],
 "metadata": {
  "kernelspec": {
   "display_name": "Python 3 (ipykernel)",
   "language": "python",
   "name": "python3"
  },
  "language_info": {
   "codemirror_mode": {
    "name": "ipython",
    "version": 3
   },
   "file_extension": ".py",
   "mimetype": "text/x-python",
   "name": "python",
   "nbconvert_exporter": "python",
   "pygments_lexer": "ipython3",
   "version": "3.12.4"
  }
 },
 "nbformat": 4,
 "nbformat_minor": 5
}
